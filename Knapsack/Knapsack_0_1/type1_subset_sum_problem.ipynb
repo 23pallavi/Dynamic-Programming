{
 "nbformat": 4,
 "nbformat_minor": 2,
 "metadata": {
  "language_info": {
   "name": "python",
   "codemirror_mode": {
    "name": "ipython",
    "version": 3
   },
   "version": "3.8.3"
  },
  "orig_nbformat": 2,
  "file_extension": ".py",
  "mimetype": "text/x-python",
  "name": "python",
  "npconvert_exporter": "python",
  "pygments_lexer": "ipython3",
  "version": 3
 },
 "cells": [
  {
   "source": [
    "arr = [2,3,7,8,10]\n",
    "sum = 11"
   ],
   "cell_type": "code",
   "outputs": [],
   "metadata": {},
   "execution_count": 1
  },
  {
   "cell_type": "markdown",
   "execution_count": null,
   "metadata": {},
   "outputs": [],
   "source": [
    "approach 1: Recursive solution"
   ]
  },
  {
   "cell_type": "code",
   "execution_count": null,
   "metadata": {},
   "outputs": [],
   "source": [
    "class Solution(object):\n",
    "    def __init__(self):\n",
    "        pass\n",
    "    def findsubset(self, arr, sum):\n",
    "        N = len(arr)\n",
    "\n",
    "    def _recursive_solution(self, arr, sum, N):\n",
    "        # writing the base condition - think about the smallest valid input\n",
    "        if N == 0 or sum == 0:\n",
    "            return 0\n",
    "        \n",
    "        \n",
    "            \n",
    "\n",
    "    "
   ]
  }
 ]
}